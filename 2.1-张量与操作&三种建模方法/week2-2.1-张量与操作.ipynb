{
 "cells": [
  {
   "cell_type": "code",
   "execution_count": 11,
   "metadata": {
    "pycharm": {
     "is_executing": false
    }
   },
   "outputs": [
    {
     "name": "stdout",
     "text": [
      "2.0.0\n"
     ],
     "output_type": "stream"
    }
   ],
   "source": [
    "import tensorflow as tf\n",
    "print(tf.__version__)"
   ]
  },
  {
   "cell_type": "code",
   "execution_count": 12,
   "metadata": {
    "pycharm": {
     "is_executing": false
    }
   },
   "outputs": [
    {
     "name": "stdout",
     "text": [
      "False\n"
     ],
     "output_type": "stream"
    }
   ],
   "source": [
    "print(tf.test.is_gpu_available())"
   ]
  },
  {
   "cell_type": "markdown",
   "metadata": {},
   "source": [
    "# 张量"
   ]
  },
  {
   "cell_type": "code",
   "execution_count": 13,
   "metadata": {
    "pycharm": {
     "is_executing": false
    }
   },
   "outputs": [
    {
     "name": "stdout",
     "text": [
      "0\n",
      "[]\n"
     ],
     "output_type": "stream"
    }
   ],
   "source": [
    "# Rank 0\n",
    "mammal=tf.Variable(\"Elephant\",tf.string)\n",
    "tf.print(tf.rank(mammal))\n",
    "tf.print(tf.shape(mammal))\n"
   ]
  },
  {
   "cell_type": "code",
   "execution_count": 14,
   "metadata": {
    "pycharm": {
     "is_executing": false
    }
   },
   "outputs": [
    {
     "name": "stdout",
     "text": [
      "tf.Tensor(0, shape=(), dtype=int32)\n"
     ],
     "output_type": "stream"
    }
   ],
   "source": [
    "print(tf.rank(mammal))"
   ]
  },
  {
   "cell_type": "code",
   "execution_count": null,
   "metadata": {
    "pycharm": {
     "is_executing": false
    }
   },
   "outputs": [],
   "source": [
    "#Rank 1\n",
    "mystr=tf.Variable([\"Hello\"],tf.string)\n",
    "tf.print(tf.rank(mystr))\n",
    "tf.print(tf.shape(mystr))\n"
   ]
  },
  {
   "cell_type": "code",
   "execution_count": null,
   "metadata": {
    "pycharm": {
     "is_executing": false
    }
   },
   "outputs": [],
   "source": [
    "#Rank 2\n",
    "mymat=tf.Variable([[7],[11]],tf.int16)\n",
    "tf.print(tf.rank(mymat))\n",
    "tf.print(tf.shape(mymat))\n"
   ]
  },
  {
   "cell_type": "markdown",
   "metadata": {},
   "source": [
    "创建张量"
   ]
  },
  {
   "cell_type": "code",
   "execution_count": null,
   "metadata": {
    "pycharm": {
     "is_executing": false
    }
   },
   "outputs": [],
   "source": [
    "tf.constant([1,2,3],dtype=tf.int16)"
   ]
  },
  {
   "cell_type": "code",
   "execution_count": null,
   "metadata": {
    "pycharm": {
     "is_executing": false
    }
   },
   "outputs": [],
   "source": [
    "tf.zeros((2,2),dtype=tf.int16)"
   ]
  },
  {
   "cell_type": "code",
   "execution_count": null,
   "metadata": {
    "pycharm": {
     "is_executing": false
    }
   },
   "outputs": [],
   "source": [
    "#reshape\n",
    "rank_three_tensor=tf.ones([3,4,5])\n",
    "matrix=tf.reshape(rank_three_tensor,[6,10])"
   ]
  },
  {
   "cell_type": "code",
   "execution_count": null,
   "metadata": {
    "pycharm": {
     "is_executing": false
    }
   },
   "outputs": [],
   "source": [
    "yet_another=tf.reshape(rank_three_tensor,[8, 10])#报错"
   ]
  },
  {
   "cell_type": "code",
   "execution_count": null,
   "metadata": {
    "pycharm": {
     "is_executing": false
    }
   },
   "outputs": [],
   "source": []
  },
  {
   "cell_type": "code",
   "execution_count": null,
   "metadata": {
    "pycharm": {
     "is_executing": false
    }
   },
   "outputs": [],
   "source": []
  },
  {
   "cell_type": "markdown",
   "metadata": {},
   "source": [
    "# 操作\n",
    "\n",
    "- tf.strings\n",
    "- tf.debugging\n",
    "- tf.dtypes\n",
    "- tf.math\n",
    "- tf.random\n",
    "- tf.feature_column  [建议参考](https://www.tensorflow.org/tutorials/structured_data/feature_columns)，常用于特征处理.\n"
   ]
  },
  {
   "cell_type": "markdown",
   "metadata": {},
   "source": [
    "## tf.strings"
   ]
  },
  {
   "cell_type": "code",
   "execution_count": null,
   "metadata": {
    "pycharm": {
     "is_executing": false
    }
   },
   "outputs": [],
   "source": [
    "#字符切割\n",
    "tf.strings.bytes_split('hello')"
   ]
  },
  {
   "cell_type": "code",
   "execution_count": null,
   "metadata": {
    "pycharm": {
     "is_executing": false
    }
   },
   "outputs": [],
   "source": [
    "help(tf.strings.split)"
   ]
  },
  {
   "cell_type": "code",
   "execution_count": null,
   "metadata": {
    "pycharm": {
     "is_executing": false
    }
   },
   "outputs": [],
   "source": [
    "#单词切割\n",
    "tf.strings.split('hello world')"
   ]
  },
  {
   "cell_type": "code",
   "execution_count": null,
   "metadata": {
    "pycharm": {
     "is_executing": false
    }
   },
   "outputs": [],
   "source": [
    "#string hash\n",
    "tf.strings.to_hash_bucket(['hello','world'], num_buckets=10)"
   ]
  },
  {
   "cell_type": "markdown",
   "metadata": {},
   "source": [
    "## tf.debugging"
   ]
  },
  {
   "cell_type": "code",
   "execution_count": null,
   "metadata": {
    "pycharm": {
     "is_executing": false
    }
   },
   "outputs": [],
   "source": [
    "#tf自带debug函数\n",
    "a=tf.random.uniform((10,10))\n",
    "tf.debugging.assert_equal(x=a.shape,y=(10,10))\n"
   ]
  },
  {
   "cell_type": "code",
   "execution_count": null,
   "metadata": {
    "pycharm": {
     "is_executing": false
    }
   },
   "outputs": [],
   "source": [
    "#错误示范\n",
    "tf.debugging.assert_equal(x=a.shape,y=(20,10))"
   ]
  },
  {
   "cell_type": "markdown",
   "metadata": {},
   "source": [
    "## tf.random\n"
   ]
  },
  {
   "cell_type": "code",
   "execution_count": 15,
   "metadata": {
    "pycharm": {
     "is_executing": false
    }
   },
   "outputs": [
    {
     "data": {
      "text/plain": "<tf.Tensor: id=72, shape=(10, 5), dtype=float32, numpy=\narray([[1.0598302 , 7.132542  , 4.5408783 , 6.3574686 , 8.098336  ],\n       [7.6425066 , 1.8496978 , 7.3036184 , 5.895121  , 5.134014  ],\n       [7.438283  , 6.7976785 , 5.470388  , 6.7994537 , 1.5072727 ],\n       [5.268241  , 8.394365  , 8.985238  , 5.966216  , 1.8199766 ],\n       [7.358899  , 9.830885  , 8.672121  , 2.4440444 , 4.74967   ],\n       [3.3575916 , 6.335397  , 1.4212012 , 5.184033  , 3.603021  ],\n       [4.0712595 , 8.7146015 , 3.2533514 , 6.840925  , 6.1046743 ],\n       [0.12459278, 8.844756  , 2.6079702 , 9.186586  , 4.149153  ],\n       [2.1554232 , 8.559956  , 8.219338  , 4.3768263 , 9.083456  ],\n       [6.7011824 , 4.191644  , 2.83854   , 5.1512136 , 3.932209  ]],\n      dtype=float32)>"
     },
     "metadata": {},
     "output_type": "execute_result",
     "execution_count": 15
    }
   ],
   "source": [
    "a = tf.random.uniform(shape=(10,5),minval=0,maxval=10)\n",
    "a"
   ]
  },
  {
   "cell_type": "markdown",
   "metadata": {},
   "source": [
    "## tf.math"
   ]
  },
  {
   "cell_type": "code",
   "execution_count": null,
   "metadata": {
    "pycharm": {
     "is_executing": false
    }
   },
   "outputs": [],
   "source": [
    "a = tf.constant([[1,2],[3,4]])\n",
    "b = tf.constant([[5,6],[7,8]])\n",
    "\n",
    "tf.print(tf.math.add(a,b))\n",
    "tf.print(tf.math.subtract(a,b))\n",
    "tf.print(tf.math.multiply(a,b))\n",
    "tf.print(tf.math.divide(a,b))"
   ]
  },
  {
   "cell_type": "code",
   "execution_count": null,
   "metadata": {
    "pycharm": {
     "is_executing": false
    }
   },
   "outputs": [],
   "source": [
    "print(tf.math.add(a,b))"
   ]
  },
  {
   "cell_type": "markdown",
   "metadata": {},
   "source": [
    "## tf.dtypes"
   ]
  },
  {
   "cell_type": "code",
   "execution_count": null,
   "metadata": {
    "pycharm": {
     "is_executing": false
    }
   },
   "outputs": [],
   "source": [
    "x =tf.constant([1.8,2.2],dtype=tf.float32)\n",
    "\n",
    "x1=tf.dtypes.cast(x,tf.int32)\n",
    "x1"
   ]
  },
  {
   "cell_type": "code",
   "execution_count": null,
   "metadata": {
    "pycharm": {
     "is_executing": false
    }
   },
   "outputs": [],
   "source": []
  },
  {
   "cell_type": "markdown",
   "metadata": {},
   "source": [
    "# 常用层\n",
    "\n",
    "- tf.keras.layers\n",
    "- tf.nn\n",
    "\n",
    "在大多数据情况下，可以使用TensorFlow封装的tf.keras.layers构建的一些层建模，Keras层是非常有用的。\n",
    "\n",
    "可以在[文档中](https://www.tensorflow.org/api_docs/python/tf/keras/layers)查看预先存在的层的完整列表。它包括Dense，Conv2D，LSTM，BatchNormalization，Dropout等。"
   ]
  },
  {
   "cell_type": "code",
   "execution_count": null,
   "metadata": {
    "pycharm": {
     "is_executing": false
    }
   },
   "outputs": [],
   "source": [
    "#文本分类\n",
    "\n",
    "a = tf.random.uniform(shape = (10,100,50),minval=-0.5,maxval=0.5) #张量\n",
    "\n",
    "x = tf.keras.layers.LSTM(100)(a) #LSTM\n",
    "\n",
    "x = tf.keras.layers.Dense(10)(x) #全连接层\n",
    "\n",
    "x = tf.nn.softmax(x) #激活函数\n",
    "\n"
   ]
  },
  {
   "cell_type": "markdown",
   "metadata": {},
   "source": [
    "增加层的参数配置"
   ]
  },
  {
   "cell_type": "code",
   "execution_count": null,
   "metadata": {
    "pycharm": {
     "is_executing": false
    }
   },
   "outputs": [],
   "source": [
    "#层中增加激活函数\n",
    "tf.keras.layers.Dense(64, activation='relu')\n",
    "#or\n",
    "tf.keras.layers.Dense(64, activation=tf.nn.relu)\n",
    "\n",
    "\n",
    "#将L1正则化系数为0.01的线性层应用于内核矩阵\n",
    "tf.keras.layers.Dense(64, kernel_regularizer=tf.keras.regularizers.l1(0.01))\n",
    "\n",
    "# 将L2正则化系数为0.01的线性层应用于偏差向量：\n",
    "tf.keras.layers.Dense(64, bias_regularizer=tf.keras.regularizers.l2(0.01))\n",
    "\n",
    "# 内核初始化为随机正交矩阵的线性层：\n",
    "tf.keras.layers.Dense(64, kernel_initializer='orthogonal')\n",
    "\n",
    "# 偏差向量初始化为2.0的线性层：\n",
    "tf.keras.layers.Dense(64, bias_initializer=tf.keras.initializers.Constant(2.0))"
   ]
  },
  {
   "cell_type": "code",
   "execution_count": null,
   "metadata": {
    "pycharm": {
     "is_executing": false
    }
   },
   "outputs": [],
   "source": []
  },
  {
   "cell_type": "code",
   "execution_count": null,
   "metadata": {
    "pycharm": {
     "is_executing": false
    }
   },
   "outputs": [],
   "source": []
  }
 ],
 "metadata": {
  "kernelspec": {
   "display_name": "Python 3",
   "language": "python",
   "name": "python3"
  },
  "language_info": {
   "codemirror_mode": {
    "name": "ipython",
    "version": 3
   },
   "file_extension": ".py",
   "mimetype": "text/x-python",
   "name": "python",
   "nbconvert_exporter": "python",
   "pygments_lexer": "ipython3",
   "version": "3.7.0"
  },
  "pycharm": {
   "stem_cell": {
    "cell_type": "raw",
    "source": [],
    "metadata": {
     "collapsed": false
    }
   }
  }
 },
 "nbformat": 4,
 "nbformat_minor": 4
}